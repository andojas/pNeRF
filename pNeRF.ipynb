{
 "cells": [
  {
   "cell_type": "markdown",
   "metadata": {},
   "source": [
    "# Bioinformatics project (pNeRF)"
   ]
  },
  {
   "cell_type": "markdown",
   "metadata": {},
   "source": [
    "## pNeRF algorithm\n",
    "### Importing libraries and defining constants"
   ]
  },
  {
   "cell_type": "code",
   "execution_count": 1,
   "metadata": {
    "ExecuteTime": {
     "end_time": "2019-12-06T13:45:45.859896Z",
     "start_time": "2019-12-06T13:45:45.205333Z"
    }
   },
   "outputs": [],
   "source": [
    "\"\"\"\n",
    "pNeRF algorithm for parallelized conversion from torsion (dihedral) angles to\n",
    "Cartesian coordinates implemented with PyTorch.\n",
    "Reference implementation in tensorflow by Mohammed AlQuraishi:\n",
    "    https://github.com/aqlaboratory/pnerf/blob/master/pnerf.py\n",
    "Paper (preprint) by Mohammed AlQuraishi:\n",
    "    https://www.biorxiv.org/content/early/2018/08/06/385450\n",
    "PyTorch implementation by Felix Opolka\n",
    "\"\"\"\n",
    "\n",
    "import math\n",
    "import collections\n",
    "import numpy as np\n",
    "import torch\n",
    "import torch.nn.functional as F\n",
    "import torch.distributions.constraints as constraints\n",
    "\n",
    "import pyro\n",
    "from pyro.optim import Adam\n",
    "from pyro.infer import SVI, Trace_ELBO\n",
    "import pyro.distributions as dist\n",
    "import matplotlib.pyplot as plt\n",
    "import numpy as np\n",
    "from matplotlib.pyplot import imshow\n",
    "%matplotlib inline\n",
    "\n",
    "# Constants\n",
    "NUM_DIMENSIONS = 3\n",
    "NUM_DIHEDRALS = 3\n",
    "BOND_LENGTHS = np.array([145.801, 152.326, 132.868], dtype=np.float32)\n",
    "BOND_ANGLES = np.array([2.124, 1.941, 2.028], dtype=np.float32)"
   ]
  },
  {
   "cell_type": "markdown",
   "metadata": {},
   "source": [
    "### From dihedrals to SRF coordinates"
   ]
  },
  {
   "cell_type": "code",
   "execution_count": 2,
   "metadata": {
    "ExecuteTime": {
     "end_time": "2019-12-06T13:45:45.866923Z",
     "start_time": "2019-12-06T13:45:45.861893Z"
    }
   },
   "outputs": [],
   "source": [
    "def dihedral_to_point(dihedral, bond_lengths=BOND_LENGTHS,\n",
    "                      bond_angles=BOND_ANGLES):\n",
    "    \"\"\"\n",
    "    Takes triplets of dihedral angles (phi, psi, omega) and returns 3D points\n",
    "    ready for use in reconstruction of coordinates. Bond lengths and angles\n",
    "    are based on idealized averages.\n",
    "    :param dihedral: [NUM_STEPS, BATCH_SIZE, NUM_DIHEDRALS]\n",
    "    :return: Tensor containing points of the protein's backbone atoms.\n",
    "    Shape [NUM_STEPS x NUM_DIHEDRALS, BATCH_SIZE, NUM_DIMENSIONS]\n",
    "    \"\"\"\n",
    "    num_steps = dihedral.shape[0]\n",
    "    batch_size = dihedral.shape[1]\n",
    "\n",
    "    r_cos_theta = torch.tensor(bond_lengths * np.cos(np.pi - bond_angles))\n",
    "    r_sin_theta = torch.tensor(bond_lengths * np.sin(np.pi - bond_angles))\n",
    "\n",
    "    point_x = r_cos_theta.view(1, 1, -1).repeat(num_steps, batch_size, 1)\n",
    "    point_y = torch.cos(dihedral) * r_sin_theta\n",
    "    point_z = torch.sin(dihedral) * r_sin_theta\n",
    "\n",
    "    point = torch.stack([point_x, point_y, point_z])\n",
    "    point_perm = point.permute(1, 3, 2, 0)\n",
    "    point_final = point_perm.contiguous().view(num_steps*NUM_DIHEDRALS,\n",
    "                                               batch_size,\n",
    "                                               NUM_DIMENSIONS)\n",
    "    return point_final"
   ]
  },
  {
   "cell_type": "markdown",
   "metadata": {},
   "source": [
    "### From SRF coordinates to actual coordinates"
   ]
  },
  {
   "cell_type": "code",
   "execution_count": 3,
   "metadata": {
    "ExecuteTime": {
     "end_time": "2019-12-06T13:45:45.887823Z",
     "start_time": "2019-12-06T13:45:45.868876Z"
    }
   },
   "outputs": [],
   "source": [
    "def point_to_coordinate(points, num_fragments=1):\n",
    "    \"\"\"\n",
    "    Takes points from dihedral_to_point and sequentially converts them into\n",
    "    coordinates of a 3D structure.\n",
    "    Reconstruction is done in parallel by independently reconstructing\n",
    "    num_fragments and the reconstituting the chain at the end in reverse order.\n",
    "    The core reconstruction algorithm is NeRF, based on\n",
    "    DOI: 10.1002/jcc.20237 by Parsons et al. 2005.\n",
    "    The parallelized version is described in\n",
    "    https://www.biorxiv.org/content/early/2018/08/06/385450.\n",
    "    :param points: Tensor containing points as returned by `dihedral_to_point`.\n",
    "    Shape [NUM_STEPS x NUM_DIHEDRALS, BATCH_SIZE, NUM_DIMENSIONS]\n",
    "    :param num_fragments: Number of fragments in which the sequence is split\n",
    "    to perform parallel computation.\n",
    "    :return: Tensor containing correctly transformed atom coordinates.\n",
    "    Shape [NUM_STEPS x NUM_DIHEDRALS, BATCH_SIZE, NUM_DIMENSIONS]\n",
    "    \"\"\"\n",
    "\n",
    "    # Compute optimal number of fragments if needed\n",
    "    total_num_angles = points.shape[0] # NUM_STEPS x NUM_DIHEDRALS\n",
    "    if num_fragments is None:\n",
    "        num_fragments = int(math.sqrt(total_num_angles))\n",
    "\n",
    "    # Initial three coordinates (specifically chosen to eliminate need for\n",
    "    # extraneous matmul)\n",
    "    Triplet = collections.namedtuple('Triplet', 'a, b, c')\n",
    "    batch_size = points.shape[1]\n",
    "    init_matrix = np.array([[-np.sqrt(1.0 / 2.0), np.sqrt(3.0 / 2.0), 0],\n",
    "                         [-np.sqrt(2.0), 0, 0], [0, 0, 0]],\n",
    "                        dtype=np.float32)\n",
    "    init_matrix = torch.from_numpy(init_matrix)\n",
    "    init_coords = [row.repeat([num_fragments * batch_size, 1])\n",
    "                      .view(num_fragments, batch_size, NUM_DIMENSIONS)\n",
    "                   for row in init_matrix]\n",
    "    init_coords = Triplet(*init_coords)                                     # NUM_DIHEDRALS x [NUM_FRAGS, BATCH_SIZE, NUM_DIMENSIONS]\n",
    "\n",
    "    # Pad points to yield equal-sized fragments\n",
    "    padding = ((num_fragments - (total_num_angles % num_fragments))\n",
    "               % num_fragments)                                             # (NUM_FRAGS x FRAG_SIZE) - (NUM_STEPS x NUM_DIHEDRALS)\n",
    "    points = F.pad(points, (0, 0, 0, 0, 0, padding))                        # [NUM_FRAGS x FRAG_SIZE, BATCH_SIZE, NUM_DIMENSIONS]\n",
    "    points = points.view(num_fragments, -1, batch_size, NUM_DIMENSIONS)     # [NUM_FRAGS, FRAG_SIZE, BATCH_SIZE, NUM_DIMENSIONS]\n",
    "    points = points.permute(1, 0, 2, 3)                                     # [FRAG_SIZE, NUM_FRAGS, BATCH_SIZE, NUM_DIMENSIONS]\n",
    "\n",
    "    # Extension function used for single atom reconstruction and whole fragment\n",
    "    # alignment\n",
    "    def extend(prev_three_coords, point, multi_m):\n",
    "        \"\"\"\n",
    "        Aligns an atom or an entire fragment depending on value of `multi_m`\n",
    "        with the preceding three atoms.\n",
    "        :param prev_three_coords: Named tuple storing the last three atom\n",
    "        coordinates (\"a\", \"b\", \"c\") where \"c\" is the current end of the\n",
    "        structure (i.e. closest to the atom/ fragment that will be added now).\n",
    "        Shape NUM_DIHEDRALS x [NUM_FRAGS/0, BATCH_SIZE, NUM_DIMENSIONS].\n",
    "        First rank depends on value of `multi_m`.\n",
    "        :param point: Point describing the atom that is added to the structure.\n",
    "        Shape [NUM_FRAGS/FRAG_SIZE, BATCH_SIZE, NUM_DIMENSIONS]\n",
    "        First rank depends on value of `multi_m`.\n",
    "        :param multi_m: If True, a single atom is added to the chain for\n",
    "        multiple fragments in parallel. If False, an single fragment is added.\n",
    "        Note the different parameter dimensions.\n",
    "        :return: Coordinates of the atom/ fragment.\n",
    "        \"\"\"\n",
    "        bc = F.normalize(prev_three_coords.c - prev_three_coords.b, dim=-1)\n",
    "        n = F.normalize(torch.cross(prev_three_coords.b - prev_three_coords.a,\n",
    "                                    bc), dim=-1)\n",
    "        if multi_m:     # multiple fragments, one atom at a time\n",
    "            m = torch.stack([bc, torch.cross(n, bc), n]).permute(1, 2, 3, 0)\n",
    "        else:           # single fragment, reconstructed entirely at once.\n",
    "            s = point.shape + (3,)\n",
    "            m = torch.stack([bc, torch.cross(n, bc), n]).permute(1, 2, 0)\n",
    "            m = m.repeat(s[0], 1, 1).view(s)\n",
    "        coord = torch.squeeze(torch.matmul(m, point.unsqueeze(3)),\n",
    "                              dim=3) + prev_three_coords.c\n",
    "        return coord\n",
    "\n",
    "    # Loop over FRAG_SIZE in NUM_FRAGS parallel fragments, sequentially\n",
    "    # generating the coordinates for each fragment across all batches\n",
    "    coords_list = [None] * points.shape[0]                                  # FRAG_SIZE x [NUM_FRAGS, BATCH_SIZE, NUM_DIMENSIONS]\n",
    "    prev_three_coords = init_coords\n",
    "\n",
    "    for i in range(points.shape[0]):    # Iterate over FRAG_SIZE\n",
    "        coord = extend(prev_three_coords, points[i], True)\n",
    "        coords_list[i] = coord\n",
    "        prev_three_coords = Triplet(prev_three_coords.b,\n",
    "                                    prev_three_coords.c,\n",
    "                                    coord)\n",
    "\n",
    "    coords_pretrans = torch.stack(coords_list).permute(1, 0, 2, 3)\n",
    "\n",
    "    # Loop backwards over NUM_FRAGS to align the individual fragments. For each\n",
    "    # next fragment, we transform the fragments we have already iterated over\n",
    "    # (coords_trans) to be aligned with the next fragment\n",
    "    coords_trans = coords_pretrans[-1]\n",
    "    for i in reversed(range(coords_pretrans.shape[0]-1)):\n",
    "        # Transform the fragments that we have already iterated over to be\n",
    "        # aligned with the next fragment `coords_trans`\n",
    "        transformed_coords = extend(Triplet(*[di[i]\n",
    "                                              for di in prev_three_coords]),\n",
    "                                    coords_trans, False)\n",
    "        coords_trans = torch.cat([coords_pretrans[i], transformed_coords], 0)\n",
    "\n",
    "    coords = F.pad(coords_trans[:total_num_angles-1], (0, 0, 0, 0, 1, 0))\n",
    "\n",
    "    return coords/100"
   ]
  },
  {
   "cell_type": "markdown",
   "metadata": {},
   "source": [
    "## Creating random peptides"
   ]
  },
  {
   "cell_type": "markdown",
   "metadata": {},
   "source": [
    "### Setting parameters"
   ]
  },
  {
   "cell_type": "code",
   "execution_count": 4,
   "metadata": {
    "ExecuteTime": {
     "end_time": "2019-12-06T13:45:45.898828Z",
     "start_time": "2019-12-06T13:45:45.888820Z"
    }
   },
   "outputs": [],
   "source": [
    "# Setting a random seed\n",
    "pyro.set_rng_seed(101)\n",
    "\n",
    "# Setting the mu and kappa parameters for creating a fake dataset\n",
    "mu_psi_1_dist    = torch.distributions.Normal(1, 0.01)\n",
    "kappa_psi_1_dist = torch.distributions.Normal(300, 1)\n",
    "\n",
    "mu_phi_2_dist    = torch.distributions.Normal(2, 0.01)\n",
    "kappa_phi_2_dist = torch.distributions.Normal(600, 2)\n",
    "\n",
    "mu_psi_2_dist    = torch.distributions.Normal(0.5, 0.01)\n",
    "kappa_psi_2_dist = torch.distributions.Normal(600, 2)\n",
    "\n",
    "mu_phi_3_dist    = torch.distributions.Normal(0, 0.01)\n",
    "kappa_phi_3_dist = torch.distributions.Normal(900, 3)"
   ]
  },
  {
   "cell_type": "markdown",
   "metadata": {},
   "source": [
    "### Sampling from Von Mises"
   ]
  },
  {
   "cell_type": "code",
   "execution_count": 5,
   "metadata": {
    "ExecuteTime": {
     "end_time": "2019-12-06T13:45:45.910882Z",
     "start_time": "2019-12-06T13:45:45.899839Z"
    }
   },
   "outputs": [],
   "source": [
    "def Sampler_VM(n_samples, n_AA, mus, kappas, used_angles=[True, True, True]):\n",
    "    phi = used_angles[0]\n",
    "    psi = used_angles[1]\n",
    "    omega = used_angles[2]\n",
    "    \n",
    "    # Making samples    \n",
    "    samples = []\n",
    "    for AA in range(n_AA):\n",
    "        angles = []\n",
    "        for sample in range(n_samples):\n",
    "            dihedral_angles = []\n",
    "            if phi and AA != 0:\n",
    "                phi_angle = pyro.distributions.VonMises(mus[AA][0].sample_n(1).item(),\n",
    "                                                              kappas[AA][0].sample_n(1).item()).sample_n(1).item()\n",
    "                dihedral_angles.append(float(phi_angle))\n",
    "            else:\n",
    "                dihedral_angles.append(float(0.))\n",
    "                \n",
    "            if psi and AA != n_AA-1:\n",
    "                psi_angle = pyro.distributions.VonMises(mus[AA][1].sample_n(1).item(),\n",
    "                                                              kappas[AA][1].sample_n(1).item()).sample_n(1).item()\n",
    "                dihedral_angles.append(float(psi_angle))\n",
    "            else:\n",
    "                dihedral_angles.append(float(0.))\n",
    "                \n",
    "            if omega and AA != n_AA-1:\n",
    "                omega_angle = np.pi\n",
    "                dihedral_angles.append(float(omega_angle))\n",
    "            else:\n",
    "                dihedral_angles.append(float(0.))\n",
    "            \n",
    "            angles.append(np.array((dihedral_angles)))\n",
    "                \n",
    "        samples.append(angles)\n",
    "\n",
    "    samples = torch.tensor(samples)\n",
    "    return samples"
   ]
  },
  {
   "cell_type": "code",
   "execution_count": 6,
   "metadata": {
    "ExecuteTime": {
     "end_time": "2019-12-06T13:45:50.267864Z",
     "start_time": "2019-12-06T13:45:45.911881Z"
    }
   },
   "outputs": [
    {
     "name": "stderr",
     "output_type": "stream",
     "text": [
      "C:\\Users\\antan\\AppData\\Local\\Continuum\\anaconda3\\lib\\site-packages\\torch\\distributions\\distribution.py:134: UserWarning: sample_n will be deprecated. Use .sample((n,)) instead\n",
      "  warnings.warn('sample_n will be deprecated. Use .sample((n,)) instead', UserWarning)\n"
     ]
    },
    {
     "name": "stdout",
     "output_type": "stream",
     "text": [
      "torch.Size([3, 1000, 3])\n",
      "tensor([0.0000, 1.0034, 3.1416], dtype=torch.float64)\n"
     ]
    }
   ],
   "source": [
    "mus = [[None, mu_psi_1_dist, None], [mu_phi_2_dist, mu_psi_2_dist, None], [mu_phi_3_dist, None, None]]\n",
    "kappas = [[None, kappa_psi_1_dist, None], [kappa_phi_2_dist, kappa_psi_2_dist, None], [kappa_phi_3_dist, None, None]]\n",
    "_3DA_atoms = Sampler_VM(1000, 3, mus, kappas, used_angles=[True, True, True])\n",
    "\n",
    "print(_3DA_atoms.shape)\n",
    "print(_3DA_atoms[0][1])"
   ]
  },
  {
   "cell_type": "markdown",
   "metadata": {},
   "source": [
    "### Visualising the Von Mises distribution"
   ]
  },
  {
   "cell_type": "code",
   "execution_count": 7,
   "metadata": {
    "ExecuteTime": {
     "end_time": "2019-12-06T13:45:50.279120Z",
     "start_time": "2019-12-06T13:45:50.268827Z"
    }
   },
   "outputs": [],
   "source": [
    "def plotting_VM(data_1, AAs, angles, data_2=torch.tensor([[[0.]]])):\n",
    "    n_samples = len(data_1[0])\n",
    "    \n",
    "    # the histogram of the data\n",
    "    plt.figure()\n",
    "    if data_2.shape[1] == 1:\n",
    "        for AA in range(len(AAs)):\n",
    "            color = plt.rcParams['axes.prop_cycle'].by_key()['color']\n",
    "            if angles[AA] == 0:\n",
    "                da = 'phi'\n",
    "            elif angles[AA] == 1:\n",
    "                da = 'psi'\n",
    "            else:\n",
    "                da = 'omega'\n",
    "            n, bins, patches = plt.hist([sample[angles[AA]] for sample in data_1[AAs[AA]-1][:]], 40, density=1, alpha=0.5)\n",
    "    else:\n",
    "        for AA in range(len(AAs)):\n",
    "            color = plt.rcParams['axes.prop_cycle'].by_key()['color']\n",
    "            if angles[AA] == 0:\n",
    "                da = 'phi'\n",
    "            elif angles[AA] == 1:\n",
    "                da = 'psi'\n",
    "            else:\n",
    "                da = 'omega'\n",
    "            n, bins, patches = plt.hist([sample[angles[AA]] for sample in data_1[AAs[AA]-1][:]], 40, density=1, alpha=0.5)\n",
    "            n, bins, patches = plt.hist([sample[angles[AA]] for sample in data_2[AAs[AA]-1][:]], 40, density=1, alpha=0.5)\n",
    "    plt.xlabel('Angle')\n",
    "    plt.ylabel('Probability')\n",
    "    plt.title('Histogram of dihedral angles (# of samples - {})'.format(n_samples))  \n",
    "    plt.grid(True)\n",
    "    plt.savefig('Output\\\\fake_data_angles')\n",
    "    plt.show()"
   ]
  },
  {
   "cell_type": "code",
   "execution_count": 8,
   "metadata": {
    "ExecuteTime": {
     "end_time": "2019-12-06T13:45:50.649380Z",
     "start_time": "2019-12-06T13:45:50.280830Z"
    }
   },
   "outputs": [
    {
     "data": {
      "image/png": "[encoded data removed]",
      "text/plain": [
       "<Figure size 432x288 with 1 Axes>"
      ]
     },
     "metadata": {
      "needs_background": "light"
     },
     "output_type": "display_data"
    }
   ],
   "source": [
    "plotting_VM(_3DA_atoms, [1,2,2,3], [1,1,0,0])"
   ]
  },
  {
   "cell_type": "markdown",
   "metadata": {},
   "source": [
    "## Pyro model for dihedral angles"
   ]
  },
  {
   "cell_type": "markdown",
   "metadata": {},
   "source": [
    "### Model and guide (plate, vectorised)"
   ]
  },
  {
   "cell_type": "code",
   "execution_count": 9,
   "metadata": {
    "ExecuteTime": {
     "end_time": "2019-12-06T13:45:50.665327Z",
     "start_time": "2019-12-06T13:45:50.650356Z"
    }
   },
   "outputs": [],
   "source": [
    "pyro.set_rng_seed(101)\n",
    "\n",
    "# clear the param store in case we're in REPL\n",
    "pyro.clear_param_store()\n",
    "\n",
    "def model_3DA(data):\n",
    "    # Sampling mu and kappa\n",
    "    mu_psi_1        = pyro.sample(\"mu_psi_1\", dist.Uniform(-np.pi, np.pi))\n",
    "    inv_kappa_psi_1 = pyro.sample(\"inv_kappa_psi_1\", dist.HalfNormal(1.))\n",
    "    kappa_psi_1     = 100 + 1/inv_kappa_psi_1\n",
    "    \n",
    "    mu_phi_2        = pyro.sample(\"mu_phi_2\", dist.Uniform(-np.pi, np.pi))\n",
    "    inv_kappa_phi_2 = pyro.sample(\"inv_kappa_phi_2\", dist.HalfNormal(1.))\n",
    "    kappa_phi_2     = 100 + 1/inv_kappa_phi_2\n",
    "    \n",
    "    mu_psi_2        = pyro.sample(\"mu_psi_2\", dist.Uniform(-np.pi, np.pi))\n",
    "    inv_kappa_psi_2 = pyro.sample(\"inv_kappa_psi_2\", dist.HalfNormal(1.))\n",
    "    kappa_psi_2     = 100 + 1/inv_kappa_psi_2\n",
    "    \n",
    "    mu_phi_3        = pyro.sample(\"mu_phi_3\", dist.Uniform(-np.pi, np.pi))\n",
    "    inv_kappa_phi_3 = pyro.sample(\"inv_kappa_phi_3\", dist.HalfNormal(1.))\n",
    "    kappa_phi_3     = 100 + 1/inv_kappa_phi_3\n",
    "    \n",
    "    # Looping over the observed data in an conditionally independant manner\n",
    "    with pyro.plate('dihedral_angles'):\n",
    "        pyro.sample(\"obs_psi_1\", dist.VonMises(mu_psi_1, kappa_psi_1), obs=data[0,:,1])           \n",
    "        pyro.sample(\"obs_phi_2\", dist.VonMises(mu_phi_2, kappa_phi_2), obs=data[1,:,0])\n",
    "        pyro.sample(\"obs_psi_2\", dist.VonMises(mu_psi_2, kappa_psi_2), obs=data[1,:,1])            \n",
    "        pyro.sample(\"obs_phi_3\", dist.VonMises(mu_phi_3, kappa_phi_3), obs=data[2,:,0])\n",
    "    \n",
    "def guide_3DA(data):    \n",
    "    # Hyperparameters    \n",
    "    a_psi_1 = pyro.param('a_psi_1', torch.tensor(-np.pi), constraint=constraints.greater_than(-3.15)) \n",
    "    b_psi_1 = pyro.param('b_psi_1', torch.tensor(np.pi), constraint=constraints.less_than(3.15))\n",
    "    x_psi_1 = pyro.param('x_psi_1', torch.tensor(2.), constraint=constraints.positive)\n",
    "    \n",
    "    a_phi_2 = pyro.param('a_phi_2', torch.tensor(-np.pi), constraint=constraints.greater_than(-3.15)) \n",
    "    b_phi_2 = pyro.param('b_phi_2', torch.tensor(np.pi), constraint=constraints.less_than(3.15))\n",
    "    x_phi_2 = pyro.param('x_phi_2', torch.tensor(2.), constraint=constraints.positive)\n",
    "    \n",
    "    a_psi_2 = pyro.param('a_psi_2', torch.tensor(-np.pi), constraint=constraints.greater_than(-3.15)) \n",
    "    b_psi_2 = pyro.param('b_psi_2', torch.tensor(np.pi), constraint=constraints.less_than(3.15))\n",
    "    x_psi_2 = pyro.param('x_psi_2', torch.tensor(2.), constraint=constraints.positive)\n",
    "    \n",
    "    a_phi_3 = pyro.param('a_phi_3', torch.tensor(-np.pi), constraint=constraints.greater_than(-3.15)) \n",
    "    b_phi_3 = pyro.param('b_phi_3', torch.tensor(np.pi), constraint=constraints.less_than(3.15))\n",
    "    x_phi_3 = pyro.param('x_phi_3', torch.tensor(2.), constraint=constraints.positive)\n",
    "    \n",
    "    # Sampling mu and kappa\n",
    "    pyro.sample(\"mu_psi_1\", dist.Uniform(a_psi_1, b_psi_1))\n",
    "    pyro.sample(\"inv_kappa_psi_1\", dist.HalfNormal(x_psi_1))    \n",
    "    pyro.sample(\"mu_phi_2\", dist.Uniform(a_phi_2, b_phi_2))\n",
    "    pyro.sample(\"inv_kappa_phi_2\", dist.HalfNormal(x_phi_2))\n",
    "    pyro.sample(\"mu_psi_2\", dist.Uniform(a_psi_2, b_psi_2))\n",
    "    pyro.sample(\"inv_kappa_psi_2\", dist.HalfNormal(x_psi_2))    \n",
    "    pyro.sample(\"mu_phi_3\", dist.Uniform(a_phi_3, b_phi_3))\n",
    "    pyro.sample(\"inv_kappa_phi_3\", dist.HalfNormal(x_phi_3))\n",
    "    \n"
   ]
  },
  {
   "cell_type": "markdown",
   "metadata": {},
   "source": [
    "### Optimization using Adam"
   ]
  },
  {
   "cell_type": "code",
   "execution_count": 10,
   "metadata": {
    "ExecuteTime": {
     "end_time": "2019-12-06T13:46:59.435544Z",
     "start_time": "2019-12-06T13:45:50.666299Z"
    },
    "scrolled": true
   },
   "outputs": [
    {
     "name": "stdout",
     "output_type": "stream",
     "text": [
      "1st iter 0 steps:psi_2_start:  -3.141634702682495\tpsi_2_end:  3.1415505409240723\tpsi_2_scale:  2.0100250244140625\n",
      "1st iter 200 steps:psi_2_start:  -3.1379592418670654\tpsi_2_end:  3.1383416652679443\tpsi_2_scale:  2.3927714824676514\n",
      "1st iter 400 steps:psi_2_start:  -3.129270076751709\tpsi_2_end:  3.132858991622925\tpsi_2_scale:  2.9135830402374268\n",
      "1st iter 600 steps:psi_2_start:  -3.1208608150482178\tpsi_2_end:  3.1192402839660645\tpsi_2_scale:  3.246471405029297\n",
      "1st iter 800 steps:psi_2_start:  -3.100149154663086\tpsi_2_end:  3.0905580520629883\tpsi_2_scale:  3.5716304779052734\n",
      "1st iter 1000 steps:psi_2_start:  -3.0434324741363525\tpsi_2_end:  3.030269145965576\tpsi_2_scale:  4.035447597503662\n",
      "1st iter 1200 steps:psi_2_start:  -2.9041881561279297\tpsi_2_end:  2.8873162269592285\tpsi_2_scale:  4.421367645263672\n",
      "1st iter 1400 steps:psi_2_start:  -2.3252031803131104\tpsi_2_end:  2.4238107204437256\tpsi_2_scale:  4.8446149826049805\n",
      "1st iter 1600 steps:psi_2_start:  0.04968428611755371\tpsi_2_end:  0.9092605113983154\tpsi_2_scale:  5.037736892700195\n",
      "1st iter 1800 steps:psi_2_start:  0.495452880859375\tpsi_2_end:  0.5046756267547607\tpsi_2_scale:  5.023787975311279\n",
      "2nd iter 0 steps:psi_2_start:  0.4922971725463867\tpsi_2_end:  0.5044286251068115\tpsi_2_scale:  4.99321985244751\n",
      "2nd iter 200 steps:psi_2_start:  0.49188995361328125\tpsi_2_end:  0.5031850337982178\tpsi_2_scale:  4.651336669921875\n",
      "2nd iter 400 steps:psi_2_start:  0.49744462966918945\tpsi_2_end:  0.5070967674255371\tpsi_2_scale:  4.357987880706787\n",
      "2nd iter 600 steps:psi_2_start:  0.49599695205688477\tpsi_2_end:  0.5058896541595459\tpsi_2_scale:  4.143099784851074\n",
      "2nd iter 800 steps:psi_2_start:  0.4938476085662842\tpsi_2_end:  0.504753589630127\tpsi_2_scale:  3.9230904579162598\n",
      "2nd iter 1000 steps:psi_2_start:  0.4909522533416748\tpsi_2_end:  0.5079455375671387\tpsi_2_scale:  3.7399919033050537\n",
      "2nd iter 1200 steps:psi_2_start:  0.49697065353393555\tpsi_2_end:  0.5051577091217041\tpsi_2_scale:  3.563908815383911\n",
      "2nd iter 1400 steps:psi_2_start:  0.49321651458740234\tpsi_2_end:  0.5039355754852295\tpsi_2_scale:  3.380403757095337\n",
      "2nd iter 1600 steps:psi_2_start:  0.4950721263885498\tpsi_2_end:  0.5054802894592285\tpsi_2_scale:  3.2371652126312256\n",
      "2nd iter 1800 steps:psi_2_start:  0.49130988121032715\tpsi_2_end:  0.5027167797088623\tpsi_2_scale:  3.1399128437042236\n",
      "\n",
      "Final parameters\n",
      "psi_1_start: 0.10709333419799805\n",
      "psi_1_end: 2.908196449279785\n",
      "psi_1_scale: 9.141535758972168\n",
      "\n",
      "Final parameters\n",
      "phi_2_start: -3.145704507827759\n",
      "phi_2_end: 3.1459877490997314\n",
      "phi_2_scale: 3.513087034225464\n",
      "\n",
      "Final parameters\n",
      "psi_2_start: 0.4954090118408203\n",
      "psi_2_end: 0.5073320865631104\n",
      "psi_2_scale: 3.05896258354187\n",
      "\n",
      "Final parameters\n",
      "phi_3_start: -0.005113124847412109\n",
      "phi_3_end: 0.007528543472290039\n",
      "phi_3_scale: 2.506800889968872\n"
     ]
    }
   ],
   "source": [
    "pyro.set_rng_seed(101)\n",
    "\n",
    "# number of steps\n",
    "n_steps = 2000\n",
    "\n",
    "# setup the optimizer\n",
    "adam_params_3DA_1st = {\"lr\": 0.005, \"betas\": (0.90, 0.999)}\n",
    "optimizer_3DA_1st = Adam(adam_params_3DA_1st)\n",
    "\n",
    "adam_params_3DA_2nd = {\"lr\": 0.0005, \"betas\": (0.90, 0.999)}\n",
    "optimizer_3DA_2nd = Adam(adam_params_3DA_2nd)\n",
    "\n",
    "# setup the inference algorithm\n",
    "svi_3DA_1st = SVI(model_3DA, guide_3DA, optimizer_3DA_1st, loss=Trace_ELBO())\n",
    "svi_3DA_2nd = SVI(model_3DA, guide_3DA, optimizer_3DA_2nd, loss=Trace_ELBO())\n",
    "\n",
    "losses_3DA, a_psi_2, b_psi_2, x_psi_2 = [], [], [], []\n",
    "# do gradient steps\n",
    "for step in range(n_steps):\n",
    "    losses_3DA.append(svi_3DA_1st.step(_3DA_atoms.float()))\n",
    "    a_psi_2.append(pyro.param('a_psi_2').item())\n",
    "    b_psi_2.append(pyro.param('b_psi_2').item())\n",
    "    x_psi_2.append(pyro.param('x_psi_2').item())\n",
    "    if step % 200 == 0:\n",
    "        print('1st iter {} steps:'.format(step), end='')\n",
    "        print(\"psi_2_start: \", pyro.param(\"a_psi_2\").item(), end='')\n",
    "        print(\"\\tpsi_2_end: \", pyro.param(\"b_psi_2\").item(), end='')\n",
    "        print(\"\\tpsi_2_scale: \", pyro.param(\"x_psi_2\").item())\n",
    "        \n",
    "for step in range(n_steps):\n",
    "    losses_3DA.append(svi_3DA_2nd.step(_3DA_atoms.float()))\n",
    "    a_psi_2.append(pyro.param('a_psi_2').item())\n",
    "    b_psi_2.append(pyro.param('b_psi_2').item())\n",
    "    x_psi_2.append(pyro.param('x_psi_2').item())\n",
    "    if step % 200 == 0:\n",
    "        print('2nd iter {} steps:'.format(step), end='')\n",
    "        print(\"psi_2_start: \", pyro.param(\"a_psi_2\").item(), end='')\n",
    "        print(\"\\tpsi_2_end: \", pyro.param(\"b_psi_2\").item(), end='')\n",
    "        print(\"\\tpsi_2_scale: \", pyro.param(\"x_psi_2\").item())\n",
    "        \n",
    "\n",
    "# grab the learned variational parameters\n",
    "psi_1_start = pyro.param(\"a_psi_1\").item()\n",
    "psi_1_end = pyro.param(\"b_psi_1\").item()\n",
    "psi_1_scale = pyro.param(\"x_psi_1\").item()\n",
    "\n",
    "phi_2_start = pyro.param(\"a_phi_2\").item()\n",
    "phi_2_end = pyro.param(\"b_phi_2\").item()\n",
    "phi_2_scale = pyro.param(\"x_phi_2\").item()\n",
    "\n",
    "psi_2_start = pyro.param(\"a_psi_2\").item()\n",
    "psi_2_end = pyro.param(\"b_psi_2\").item()\n",
    "psi_2_scale = pyro.param(\"x_psi_2\").item()\n",
    "\n",
    "phi_3_start = pyro.param(\"a_phi_3\").item()\n",
    "phi_3_end = pyro.param(\"b_phi_3\").item()\n",
    "phi_3_scale = pyro.param(\"x_phi_3\").item()\n",
    "\n",
    "print(\"\\nFinal parameters\\npsi_1_start: {}\\npsi_1_end: {}\\npsi_1_scale: {}\".format(psi_1_start, psi_1_end, psi_1_scale))\n",
    "print(\"\\nFinal parameters\\nphi_2_start: {}\\nphi_2_end: {}\\nphi_2_scale: {}\".format(phi_2_start, phi_2_end, phi_2_scale))\n",
    "print(\"\\nFinal parameters\\npsi_2_start: {}\\npsi_2_end: {}\\npsi_2_scale: {}\".format(psi_2_start, psi_2_end, psi_2_scale))\n",
    "print(\"\\nFinal parameters\\nphi_3_start: {}\\nphi_3_end: {}\\nphi_3_scale: {}\".format(phi_3_start, phi_3_end, phi_3_scale))"
   ]
  },
  {
   "cell_type": "markdown",
   "metadata": {},
   "source": [
    "### ELBO loss"
   ]
  },
  {
   "cell_type": "code",
   "execution_count": 11,
   "metadata": {
    "ExecuteTime": {
     "end_time": "2019-12-06T13:46:59.439534Z",
     "start_time": "2019-12-06T13:46:59.436508Z"
    }
   },
   "outputs": [],
   "source": [
    "def elbo_loss(loss, n_steps):  \n",
    "    plt.plot(loss)\n",
    "    #plt.axis([0, n_steps, 0, 1000000])\n",
    "    plt.title(\"ELBO\")\n",
    "    plt.xlabel(\"step\")\n",
    "    plt.ylabel(\"loss\")\n",
    "    #plt.savefig('Output\\\\ELBO.png')"
   ]
  },
  {
   "cell_type": "code",
   "execution_count": 12,
   "metadata": {
    "ExecuteTime": {
     "end_time": "2019-12-06T13:46:59.567402Z",
     "start_time": "2019-12-06T13:46:59.440502Z"
    }
   },
   "outputs": [
    {
     "data": {
      "image/png": "[encoded data removed]",
      "text/plain": [
       "<Figure size 432x288 with 1 Axes>"
      ]
     },
     "metadata": {
      "needs_background": "light"
     },
     "output_type": "display_data"
    }
   ],
   "source": [
    "elbo_loss(losses_3DA, 4000)"
   ]
  },
  {
   "cell_type": "markdown",
   "metadata": {},
   "source": [
    "### Hyperparameter change"
   ]
  },
  {
   "cell_type": "code",
   "execution_count": 13,
   "metadata": {
    "ExecuteTime": {
     "end_time": "2019-12-06T13:46:59.571387Z",
     "start_time": "2019-12-06T13:46:59.568365Z"
    }
   },
   "outputs": [],
   "source": [
    "def hyperparameters(a, b, x):\n",
    "    plt.subplot(1,2,1)\n",
    "    plt.plot(a)\n",
    "    plt.plot(b)\n",
    "    \n",
    "    plt.subplot(1,2,2)\n",
    "    plt.plot(x)"
   ]
  },
  {
   "cell_type": "code",
   "execution_count": 14,
   "metadata": {
    "ExecuteTime": {
     "end_time": "2019-12-06T13:46:59.772854Z",
     "start_time": "2019-12-06T13:46:59.572355Z"
    }
   },
   "outputs": [
    {
     "data": {
      "image/png": "[encoded data removed]",
      "text/plain": [
       "<Figure size 432x288 with 2 Axes>"
      ]
     },
     "metadata": {
      "needs_background": "light"
     },
     "output_type": "display_data"
    }
   ],
   "source": [
    "hyperparameters(a_psi_2, b_psi_2, x_psi_2)"
   ]
  },
  {
   "cell_type": "markdown",
   "metadata": {},
   "source": [
    "### Setting parameters"
   ]
  },
  {
   "cell_type": "code",
   "execution_count": 15,
   "metadata": {
    "ExecuteTime": {
     "end_time": "2019-12-06T13:46:59.779811Z",
     "start_time": "2019-12-06T13:46:59.773834Z"
    }
   },
   "outputs": [],
   "source": [
    "# Setting mu parameters\n",
    "phi_2_mu_start_model = phi_2_start\n",
    "phi_2_mu_end_model = phi_2_end\n",
    "phi_3_mu_start_model = phi_3_start\n",
    "phi_3_mu_end_model = phi_3_end\n",
    "\n",
    "psi_1_mu_start_model = psi_1_start\n",
    "psi_1_mu_end_model = psi_1_end\n",
    "psi_2_mu_start_model = psi_2_start\n",
    "psi_2_mu_end_model = psi_2_end\n",
    "\n",
    "# Setting kappa parameters\n",
    "phi_2_inv_kappa_model = phi_2_scale\n",
    "phi_3_inv_kappa_model = phi_3_scale\n",
    "\n",
    "psi_1_inv_kappa_model = psi_1_scale\n",
    "psi_2_inv_kappa_model = psi_2_scale\n",
    "\n",
    "\n",
    "# Initialising distributions\n",
    "mu_phi_2_dist_model = dist.Uniform(phi_2_mu_start_model, phi_2_mu_end_model)\n",
    "mu_phi_3_dist_model = dist.Uniform(phi_3_mu_start_model, phi_3_mu_end_model)\n",
    "\n",
    "mu_psi_1_dist_model = dist.Uniform(psi_1_mu_start_model, psi_1_mu_end_model)\n",
    "mu_psi_2_dist_model = dist.Uniform(psi_2_mu_start_model, psi_2_mu_end_model)\n",
    "\n",
    "inv_kappa_phi_2_dist_model = dist.HalfNormal(phi_2_inv_kappa_model)\n",
    "inv_kappa_phi_3_dist_model = dist.HalfNormal(phi_3_inv_kappa_model)\n",
    "\n",
    "inv_kappa_psi_1_dist_model = dist.HalfNormal(psi_1_inv_kappa_model)\n",
    "inv_kappa_psi_2_dist_model = dist.HalfNormal(psi_2_inv_kappa_model)"
   ]
  },
  {
   "cell_type": "markdown",
   "metadata": {},
   "source": [
    "### Sampling from Von Mises (model)"
   ]
  },
  {
   "cell_type": "code",
   "execution_count": 16,
   "metadata": {
    "ExecuteTime": {
     "end_time": "2019-12-06T13:46:59.790791Z",
     "start_time": "2019-12-06T13:46:59.780797Z"
    }
   },
   "outputs": [],
   "source": [
    "def Sampler_VM_model(n_samples, n_AA, mus, kappas, bias=0, used_angles=[True, True, True]):\n",
    "    '''\n",
    "    n_samples -> number of samples.\n",
    "    n_AA -> length of the peptides in AA.\n",
    "    mus -> mu distributions of DA angles as a list of lists.\n",
    "    inv_kappas -> inv_kappa distributions of DA angles as a list of lists.\n",
    "    used_angles -> a list of truth values specifying which DA to sample.\n",
    "    returns -> a tensor of shape [n_AA, n_samples, 3]\n",
    "    '''\n",
    "    phi = used_angles[0]\n",
    "    psi = used_angles[1]\n",
    "    omega = used_angles[2]\n",
    "    \n",
    "    # Making samples    \n",
    "    samples = []\n",
    "    for AA in range(n_AA):\n",
    "        angles = []\n",
    "        for sample in range(n_samples):\n",
    "            dihedral_angles = []\n",
    "            if phi and AA != 0:\n",
    "                phi_angle = pyro.distributions.VonMises(mus[AA][0].sample_n(1).item(),\n",
    "                                                              (bias+kappas[AA][0].sample_n(1).item())).sample_n(1).item()\n",
    "                dihedral_angles.append(float(phi_angle))\n",
    "            else:\n",
    "                dihedral_angles.append(float(0.))\n",
    "                \n",
    "            if psi and AA != n_AA-1:\n",
    "                psi_angle = pyro.distributions.VonMises(mus[AA][1].sample_n(1).item(),\n",
    "                                                              (bias+kappas[AA][1].sample_n(1).item())).sample_n(1).item()\n",
    "                dihedral_angles.append(float(psi_angle))\n",
    "            else:\n",
    "                dihedral_angles.append(float(0.))\n",
    "                \n",
    "            if omega and AA != n_AA-1:\n",
    "                omega_angle = np.pi\n",
    "                dihedral_angles.append(float(omega_angle))\n",
    "            else:\n",
    "                dihedral_angles.append(float(0.))\n",
    "            \n",
    "            angles.append(np.array((dihedral_angles)))\n",
    "                \n",
    "        samples.append(angles)\n",
    "\n",
    "    samples = torch.tensor(samples)\n",
    "    return samples"
   ]
  },
  {
   "cell_type": "code",
   "execution_count": 17,
   "metadata": {
    "ExecuteTime": {
     "end_time": "2019-12-06T13:47:04.328537Z",
     "start_time": "2019-12-06T13:46:59.791794Z"
    }
   },
   "outputs": [],
   "source": [
    "mus_model = [[None, mu_psi_1_dist_model, None], [mu_phi_2_dist_model, mu_psi_2_dist_model, None], [mu_phi_3_dist_model, None, None]]\n",
    "inv_kappas_model = [[None, inv_kappa_psi_1_dist_model, None], [inv_kappa_phi_2_dist_model, inv_kappa_psi_2_dist_model, None], [inv_kappa_phi_3_dist_model, None, None]]\n",
    "\n",
    "_3DA_atoms_model = Sampler_VM_model(n_samples=1000, n_AA=3, mus=mus_model, kappas=inv_kappas_model, bias=100, used_angles=[True, True, True])"
   ]
  },
  {
   "cell_type": "markdown",
   "metadata": {},
   "source": [
    "### Plotting overlay of Von Mises distribution"
   ]
  },
  {
   "cell_type": "code",
   "execution_count": 18,
   "metadata": {
    "ExecuteTime": {
     "end_time": "2019-12-06T13:47:05.315546Z",
     "start_time": "2019-12-06T13:47:04.329232Z"
    }
   },
   "outputs": [
    {
     "name": "stdout",
     "output_type": "stream",
     "text": [
      "psi 1\n"
     ]
    },
    {
     "data": {
      "image/png": "[encoded data removed]",
      "text/plain": [
       "<Figure size 432x288 with 1 Axes>"
      ]
     },
     "metadata": {
      "needs_background": "light"
     },
     "output_type": "display_data"
    },
    {
     "name": "stdout",
     "output_type": "stream",
     "text": [
      "phi 2\n"
     ]
    },
    {
     "data": {
      "image/png": "[encoded data removed]",
      "text/plain": [
       "<Figure size 432x288 with 1 Axes>"
      ]
     },
     "metadata": {
      "needs_background": "light"
     },
     "output_type": "display_data"
    },
    {
     "name": "stdout",
     "output_type": "stream",
     "text": [
      "psi 2\n"
     ]
    },
    {
     "data": {
      "image/png": "[encoded data removed]",
      "text/plain": [
       "<Figure size 432x288 with 1 Axes>"
      ]
     },
     "metadata": {
      "needs_background": "light"
     },
     "output_type": "display_data"
    },
    {
     "name": "stdout",
     "output_type": "stream",
     "text": [
      "phi 3\n"
     ]
    },
    {
     "data": {
      "image/png": "[encoded data removed]",
      "text/plain": [
       "<Figure size 432x288 with 1 Axes>"
      ]
     },
     "metadata": {
      "needs_background": "light"
     },
     "output_type": "display_data"
    }
   ],
   "source": [
    "print('psi 1')\n",
    "plotting_VM(data_1=_3DA_atoms, data_2=_3DA_atoms_model, AAs=[1], angles=[1])\n",
    "print('phi 2')\n",
    "plotting_VM(data_1=_3DA_atoms, data_2=_3DA_atoms_model, AAs=[2], angles=[0])\n",
    "print('psi 2')\n",
    "plotting_VM(data_1=_3DA_atoms, data_2=_3DA_atoms_model, AAs=[2], angles=[1])\n",
    "print('phi 3')\n",
    "plotting_VM(data_1=_3DA_atoms, data_2=_3DA_atoms_model, AAs=[3], angles=[0])"
   ]
  },
  {
   "cell_type": "markdown",
   "metadata": {},
   "source": [
    "## Pyro model for 3D coordinates"
   ]
  },
  {
   "cell_type": "markdown",
   "metadata": {},
   "source": [
    "### Turning angles into 3D coords"
   ]
  },
  {
   "cell_type": "code",
   "execution_count": 19,
   "metadata": {
    "ExecuteTime": {
     "end_time": "2019-12-06T13:47:05.346244Z",
     "start_time": "2019-12-06T13:47:05.316543Z"
    }
   },
   "outputs": [
    {
     "name": "stdout",
     "output_type": "stream",
     "text": [
      "torch.Size([3, 1000, 3])\n",
      "tensor([[0.0000, 1.0143, 3.1416],\n",
      "        [1.9842, 0.5234, 3.1416],\n",
      "        [0.0541, 0.0000, 0.0000]], dtype=torch.float64)\n",
      "torch.Size([9, 1000, 3])\n",
      "tensor([[ 0.0000,  0.0000,  0.0000],\n",
      "        [ 0.7661,  1.2405,  0.0000],\n",
      "        [ 0.4175,  2.1035,  1.2058],\n",
      "        [ 1.0610,  3.2618,  1.3039],\n",
      "        [ 0.3655,  4.5374,  1.1819],\n",
      "        [-1.0747,  4.4283,  1.6660],\n",
      "        [-1.8018,  5.5383,  1.5984],\n",
      "        [-1.2690,  6.7696,  1.0276],\n",
      "        [ 0.1663,  6.5814,  0.5536]])\n"
     ]
    }
   ],
   "source": [
    "# Run pNERF algorithm on dihedral angles obtained using Von Mises distribution\n",
    "points_3DA_atoms = dihedral_to_point((_3DA_atoms).float())\n",
    "coordinates_3DA_atoms = point_to_coordinate(points_3DA_atoms, num_fragments=2)\n",
    "\n",
    "print(_3DA_atoms.shape)\n",
    "print(_3DA_atoms[:,0,:])\n",
    "print(coordinates_3DA_atoms.shape)\n",
    "print(coordinates_3DA_atoms[:,0,:])"
   ]
  },
  {
   "cell_type": "markdown",
   "metadata": {},
   "source": [
    "### pNeRF function for observations"
   ]
  },
  {
   "cell_type": "code",
   "execution_count": 20,
   "metadata": {
    "ExecuteTime": {
     "end_time": "2019-12-06T13:47:05.351229Z",
     "start_time": "2019-12-06T13:47:05.347238Z"
    }
   },
   "outputs": [],
   "source": [
    "def pnerf(dihedral_angles):\n",
    "    points_dihedral_angles = dihedral_to_point((dihedral_angles).float())\n",
    "    coordinates_dihedral_angles = point_to_coordinate(points_dihedral_angles, num_fragments=2)\n",
    "    return coordinates_dihedral_angles"
   ]
  },
  {
   "cell_type": "markdown",
   "metadata": {},
   "source": [
    "### Model and guide for 3D coords"
   ]
  },
  {
   "cell_type": "code",
   "execution_count": 21,
   "metadata": {
    "ExecuteTime": {
     "end_time": "2019-12-06T13:47:05.386135Z",
     "start_time": "2019-12-06T13:47:05.352226Z"
    }
   },
   "outputs": [],
   "source": [
    "pyro.set_rng_seed(101)\n",
    "\n",
    "# clear the param store in case we're in REPL\n",
    "pyro.clear_param_store()\n",
    "\n",
    "def model_3D(data):\n",
    "    # Sampling mu and kappa\n",
    "    psi_1 = pyro.sample(\"psi_1\", dist.VonMises(0, 0.1))\n",
    "    phi_2 = pyro.sample(\"phi_2\", dist.VonMises(0, 0.1))    \n",
    "    psi_2 = pyro.sample(\"psi_2\", dist.VonMises(0, 0.1))    \n",
    "    phi_3 = pyro.sample(\"phi_3\", dist.VonMises(0, 0.1))\n",
    "    das = torch.tensor([[[0., psi_1, np.pi]],[[phi_2, psi_2, np.pi]],[[phi_3, 0., 0.]]])\n",
    "    coords_3d = pnerf(das)\n",
    "    \n",
    "    _3a_x = coords_3d[2,:,0]\n",
    "    _4a_x = coords_3d[3,:,0]\n",
    "    _5a_x = coords_3d[4,:,0]\n",
    "    _6a_x = coords_3d[5,:,0]\n",
    "    _7a_x = coords_3d[6,:,0]\n",
    "    _8a_x = coords_3d[7,:,0]\n",
    "    _9a_x = coords_3d[8,:,0]\n",
    "    \n",
    "    _3a_y = coords_3d[2,:,1]\n",
    "    _4a_y = coords_3d[3,:,1]\n",
    "    _5a_y = coords_3d[4,:,1]\n",
    "    _6a_y = coords_3d[5,:,1]\n",
    "    _7a_y = coords_3d[6,:,1]\n",
    "    _8a_y = coords_3d[7,:,1]\n",
    "    _9a_y = coords_3d[8,:,1]\n",
    "    \n",
    "    _3a_z = coords_3d[2,:,2]\n",
    "    _4a_z = coords_3d[3,:,2]\n",
    "    _5a_z = coords_3d[4,:,2]\n",
    "    _6a_z = coords_3d[5,:,2]\n",
    "    _7a_z = coords_3d[6,:,2]\n",
    "    _8a_z = coords_3d[7,:,2]\n",
    "    _9a_z = coords_3d[8,:,2]\n",
    "    \n",
    "    # Looping over the observed data in an independant manner\n",
    "    with pyro.plate('3D_coords'):\n",
    "        pyro.sample(\"obs_3D_3a_x\", dist.Normal(_3a_x, 0.001), obs=data[2,:,0])\n",
    "        pyro.sample(\"obs_3D_4a_x\", dist.Normal(_4a_x, 0.001), obs=data[3,:,0])\n",
    "        pyro.sample(\"obs_3D_5a_x\", dist.Normal(_5a_x, 0.001), obs=data[4,:,0])\n",
    "        pyro.sample(\"obs_3D_6a_x\", dist.Normal(_6a_x, 0.001), obs=data[5,:,0])\n",
    "        pyro.sample(\"obs_3D_7a_x\", dist.Normal(_7a_x, 0.001), obs=data[6,:,0])\n",
    "        pyro.sample(\"obs_3D_8a_x\", dist.Normal(_8a_x, 0.001), obs=data[7,:,0])\n",
    "        pyro.sample(\"obs_3D_9a_x\", dist.Normal(_9a_x, 0.001), obs=data[8,:,0])\n",
    "        \n",
    "        pyro.sample(\"obs_3D_3a_y\", dist.Normal(_3a_y, 0.001), obs=data[2,:,1])\n",
    "        pyro.sample(\"obs_3D_4a_y\", dist.Normal(_4a_y, 0.001), obs=data[3,:,1])\n",
    "        pyro.sample(\"obs_3D_5a_y\", dist.Normal(_5a_y, 0.001), obs=data[4,:,1])\n",
    "        pyro.sample(\"obs_3D_6a_y\", dist.Normal(_6a_y, 0.001), obs=data[5,:,1])\n",
    "        pyro.sample(\"obs_3D_7a_y\", dist.Normal(_7a_y, 0.001), obs=data[6,:,1])\n",
    "        pyro.sample(\"obs_3D_8a_y\", dist.Normal(_8a_y, 0.001), obs=data[7,:,1])\n",
    "        pyro.sample(\"obs_3D_9a_y\", dist.Normal(_9a_y, 0.001), obs=data[8,:,1])\n",
    "        \n",
    "        pyro.sample(\"obs_3D_3a_z\", dist.Normal(_3a_z, 0.001), obs=data[2,:,2])\n",
    "        pyro.sample(\"obs_3D_4a_z\", dist.Normal(_4a_z, 0.001), obs=data[3,:,2])\n",
    "        pyro.sample(\"obs_3D_5a_z\", dist.Normal(_5a_z, 0.001), obs=data[4,:,2])\n",
    "        pyro.sample(\"obs_3D_6a_z\", dist.Normal(_6a_z, 0.001), obs=data[5,:,2])\n",
    "        pyro.sample(\"obs_3D_7a_z\", dist.Normal(_7a_z, 0.001), obs=data[6,:,2])\n",
    "        pyro.sample(\"obs_3D_8a_z\", dist.Normal(_8a_z, 0.001), obs=data[7,:,2])\n",
    "        pyro.sample(\"obs_3D_9a_z\", dist.Normal(_9a_z, 0.001), obs=data[8,:,2])\n",
    "        \n",
    "    \n",
    "def guide_3D(data):    \n",
    "    # Hyperparameters    \n",
    "    mu_psi_1    = pyro.param('mu_psi_1', torch.tensor(0.)) \n",
    "    kappa_psi_1 = pyro.param('kappa_psi_1', torch.tensor(0.01), constraint=constraints.positive)\n",
    "    \n",
    "    mu_phi_2    = pyro.param('mu_phi_2', torch.tensor(0.)) \n",
    "    kappa_phi_2 = pyro.param('kappa_phi_2', torch.tensor(0.01), constraint=constraints.positive)\n",
    "    \n",
    "    mu_psi_2    = pyro.param('mu_psi_2', torch.tensor(0.)) \n",
    "    kappa_psi_2 = pyro.param('kappa_psi_2', torch.tensor(0.01), constraint=constraints.positive)\n",
    "    \n",
    "    mu_phi_3    = pyro.param('mu_phi_3', torch.tensor(0.)) \n",
    "    kappa_phi_3 = pyro.param('kappa_phi_3', torch.tensor(0.01), constraint=constraints.positive)\n",
    "       \n",
    "    # Sampling mu and kappa\n",
    "    psi_1 = pyro.sample(\"psi_1\", dist.VonMises(mu_psi_1, 10 + kappa_psi_1))\n",
    "    phi_2 = pyro.sample(\"phi_2\", dist.VonMises(mu_phi_2, 10 + kappa_phi_2))    \n",
    "    psi_2 = pyro.sample(\"psi_2\", dist.VonMises(mu_psi_2, 10 + kappa_psi_2))    \n",
    "    phi_3 = pyro.sample(\"phi_3\", dist.VonMises(mu_phi_3, 10 + kappa_phi_3))\n",
    "    \n"
   ]
  },
  {
   "cell_type": "markdown",
   "metadata": {},
   "source": [
    "### Optimization using Adam"
   ]
  },
  {
   "cell_type": "code",
   "execution_count": 22,
   "metadata": {
    "ExecuteTime": {
     "end_time": "2019-12-06T13:48:53.883502Z",
     "start_time": "2019-12-06T13:47:05.387133Z"
    },
    "scrolled": true
   },
   "outputs": [
    {
     "name": "stdout",
     "output_type": "stream",
     "text": [
      "0:m_psi_1:  0.04\tk_psi_1:  0.01\tm_phi_2:  0.04\tk_phi_2:  0.01\tm_psi_2:  -0.04\tk_psi_2:  0.01\tm_phi_3:  0.04\tk_phi_3:  0.01\n",
      "200:m_psi_1:  0.614\tk_psi_1:  0.007\tm_phi_2:  0.783\tk_phi_2:  0.006\tm_psi_2:  0.464\tk_psi_2:  0.011\tm_phi_3:  0.632\tk_phi_3:  0.003\n",
      "400:m_psi_1:  1.452\tk_psi_1:  0.01\tm_phi_2:  1.416\tk_phi_2:  0.006\tm_psi_2:  0.774\tk_psi_2:  0.015\tm_phi_3:  0.174\tk_phi_3:  0.003\n",
      "600:m_psi_1:  1.261\tk_psi_1:  0.023\tm_phi_2:  1.563\tk_phi_2:  0.008\tm_psi_2:  0.751\tk_psi_2:  0.014\tm_phi_3:  -0.043\tk_phi_3:  0.004\n",
      "800:m_psi_1:  0.942\tk_psi_1:  0.242\tm_phi_2:  1.88\tk_phi_2:  0.042\tm_psi_2:  0.716\tk_psi_2:  0.015\tm_phi_3:  0.201\tk_phi_3:  0.005\n",
      "1000:m_psi_1:  0.916\tk_psi_1:  33.414\tm_phi_2:  1.933\tk_phi_2:  8.269\tm_psi_2:  0.918\tk_psi_2:  0.025\tm_phi_3:  -0.131\tk_phi_3:  0.007\n",
      "1200:m_psi_1:  1.083\tk_psi_1:  200.25\tm_phi_2:  1.892\tk_phi_2:  118.796\tm_psi_2:  0.908\tk_psi_2:  0.033\tm_phi_3:  -0.154\tk_phi_3:  0.012\n",
      "1400:m_psi_1:  0.922\tk_psi_1:  574.066\tm_phi_2:  1.918\tk_phi_2:  140.371\tm_psi_2:  0.888\tk_psi_2:  0.041\tm_phi_3:  -0.146\tk_phi_3:  0.025\n",
      "1600:m_psi_1:  0.781\tk_psi_1:  579.294\tm_phi_2:  2.145\tk_phi_2:  106.772\tm_psi_2:  0.82\tk_psi_2:  0.042\tm_phi_3:  -0.245\tk_phi_3:  0.172\n",
      "1800:m_psi_1:  0.836\tk_psi_1:  587.261\tm_phi_2:  2.099\tk_phi_2:  153.124\tm_psi_2:  0.776\tk_psi_2:  0.075\tm_phi_3:  -0.221\tk_phi_3:  37.581\n",
      "0:m_psi_1:  1.05\tk_psi_1:  1111.377\tm_phi_2:  1.836\tk_phi_2:  270.652\tm_psi_2:  0.716\tk_psi_2:  0.48\tm_phi_3:  -0.161\tk_phi_3:  52.523\n",
      "200:m_psi_1:  1.002\tk_psi_1:  979.362\tm_phi_2:  1.926\tk_phi_2:  291.962\tm_psi_2:  0.67\tk_psi_2:  0.559\tm_phi_3:  -0.106\tk_phi_3:  50.678\n",
      "400:m_psi_1:  1.017\tk_psi_1:  970.708\tm_phi_2:  1.947\tk_phi_2:  346.623\tm_psi_2:  0.575\tk_psi_2:  0.695\tm_phi_3:  -0.146\tk_phi_3:  52.344\n",
      "600:m_psi_1:  0.987\tk_psi_1:  905.763\tm_phi_2:  2.009\tk_phi_2:  373.374\tm_psi_2:  0.542\tk_psi_2:  0.882\tm_phi_3:  -0.005\tk_phi_3:  55.69\n",
      "800:m_psi_1:  1.011\tk_psi_1:  1008.363\tm_phi_2:  1.988\tk_phi_2:  385.265\tm_psi_2:  0.594\tk_psi_2:  1.046\tm_phi_3:  -0.068\tk_phi_3:  57.661\n",
      "1000:m_psi_1:  0.936\tk_psi_1:  1165.354\tm_phi_2:  2.029\tk_phi_2:  391.032\tm_psi_2:  0.591\tk_psi_2:  1.176\tm_phi_3:  -0.071\tk_phi_3:  65.949\n",
      "1200:m_psi_1:  0.967\tk_psi_1:  1178.137\tm_phi_2:  2.1\tk_phi_2:  425.017\tm_psi_2:  0.547\tk_psi_2:  1.364\tm_phi_3:  -0.011\tk_phi_3:  72.357\n",
      "1400:m_psi_1:  1.007\tk_psi_1:  1327.405\tm_phi_2:  2.034\tk_phi_2:  447.217\tm_psi_2:  0.483\tk_psi_2:  1.732\tm_phi_3:  0.02\tk_phi_3:  78.781\n",
      "1600:m_psi_1:  0.959\tk_psi_1:  1263.38\tm_phi_2:  2.034\tk_phi_2:  455.944\tm_psi_2:  0.43\tk_psi_2:  2.206\tm_phi_3:  0.031\tk_phi_3:  81.206\n",
      "1800:m_psi_1:  1.0\tk_psi_1:  1294.71\tm_phi_2:  2.045\tk_phi_2:  440.911\tm_psi_2:  0.448\tk_psi_2:  2.742\tm_phi_3:  0.091\tk_phi_3:  81.814\n",
      "\n",
      "Final parameters\n",
      "psi_1_mu: 0.9010874629020691\n",
      "psi_1_kappa: 1353.2401123046875\n",
      "\n",
      "Final parameters\n",
      "phi_2_mu: 2.0677387714385986\n",
      "phi_2_kappa: 461.85369873046875\n",
      "\n",
      "Final parameters\n",
      "psi_2_mu: 0.4759776294231415\n",
      "psi_2_kappa: 3.5466766357421875\n",
      "\n",
      "Final parameters\n",
      "phi_3_mu: 0.007051487453281879\n",
      "phi_3_kappa: 87.8486557006836\n"
     ]
    }
   ],
   "source": [
    "pyro.set_rng_seed(101)\n",
    "\n",
    "# number of steps\n",
    "n_steps = 2000\n",
    "\n",
    "# setup the optimizer\n",
    "adam_params_3D = {\"lr\": 0.04, \"betas\": (0.90, 0.999)}\n",
    "optimizer_3D = Adam(adam_params_3D)\n",
    "\n",
    "adam_params_3D_2 = {\"lr\": 0.004, \"betas\": (0.90, 0.999)}\n",
    "optimizer_3D_2 = Adam(adam_params_3D_2)\n",
    "\n",
    "# setup the inference algorithm\n",
    "svi_3D = SVI(model_3D, guide_3D, optimizer_3D, loss=Trace_ELBO())\n",
    "svi_3D_2 = SVI(model_3D, guide_3D, optimizer_3D_2, loss=Trace_ELBO())\n",
    "\n",
    "losses_3D, mu_psi_1_3D, kappa_psi_1_3D = [], [], []\n",
    "# do gradient steps\n",
    "for step in range(n_steps):\n",
    "    losses_3D.append(svi_3D.step(coordinates_3DA_atoms))\n",
    "    mu_psi_1_3D.append(pyro.param('mu_psi_1').item())\n",
    "    kappa_psi_1_3D.append(pyro.param('kappa_psi_1').item())\n",
    "    if step % 200 == 0:\n",
    "        temp_m_psi_1 = round(pyro.param(\"mu_psi_1\").item(), 3)\n",
    "        temp_k_psi_1 = round(pyro.param(\"kappa_psi_1\").item(), 3)\n",
    "        temp_m_phi_2 = round(pyro.param(\"mu_phi_2\").item(), 3)\n",
    "        temp_k_phi_2 = round(pyro.param(\"kappa_phi_2\").item(), 3)\n",
    "        temp_m_psi_2 = round(pyro.param(\"mu_psi_2\").item(), 3)\n",
    "        temp_k_psi_2 = round(pyro.param(\"kappa_psi_2\").item(), 3)\n",
    "        temp_m_phi_3 = round(pyro.param(\"mu_phi_3\").item(), 3)\n",
    "        temp_k_phi_3 = round(pyro.param(\"kappa_phi_3\").item(), 3)\n",
    "        \n",
    "        print('{}:'.format(step), end='')\n",
    "        print(\"m_psi_1: \", temp_m_psi_1, end='')\n",
    "        print(\"\\tk_psi_1: \", temp_k_psi_1, end='')\n",
    "        print(\"\\tm_phi_2: \", temp_m_phi_2, end='')\n",
    "        print(\"\\tk_phi_2: \", temp_k_phi_2, end='')\n",
    "        print(\"\\tm_psi_2: \", temp_m_psi_2, end='')\n",
    "        print(\"\\tk_psi_2: \", temp_k_psi_2, end='')\n",
    "        print(\"\\tm_phi_3: \", temp_m_phi_3, end='')\n",
    "        print(\"\\tk_phi_3: \", temp_k_phi_3)\n",
    "        \n",
    "for step in range(n_steps):\n",
    "    losses_3D.append(svi_3D_2.step(coordinates_3DA_atoms))\n",
    "    mu_psi_1_3D.append(pyro.param('mu_psi_1').item())\n",
    "    kappa_psi_1_3D.append(pyro.param('kappa_psi_1').item())\n",
    "    if step % 200 == 0:\n",
    "        temp_m_psi_1 = round(pyro.param(\"mu_psi_1\").item(), 3)\n",
    "        temp_k_psi_1 = round(pyro.param(\"kappa_psi_1\").item(), 3)\n",
    "        temp_m_phi_2 = round(pyro.param(\"mu_phi_2\").item(), 3)\n",
    "        temp_k_phi_2 = round(pyro.param(\"kappa_phi_2\").item(), 3)\n",
    "        temp_m_psi_2 = round(pyro.param(\"mu_psi_2\").item(), 3)\n",
    "        temp_k_psi_2 = round(pyro.param(\"kappa_psi_2\").item(), 3)\n",
    "        temp_m_phi_3 = round(pyro.param(\"mu_phi_3\").item(), 3)\n",
    "        temp_k_phi_3 = round(pyro.param(\"kappa_phi_3\").item(), 3)\n",
    "        \n",
    "        print('{}:'.format(step), end='')\n",
    "        print(\"m_psi_1: \", temp_m_psi_1, end='')\n",
    "        print(\"\\tk_psi_1: \", temp_k_psi_1, end='')\n",
    "        print(\"\\tm_phi_2: \", temp_m_phi_2, end='')\n",
    "        print(\"\\tk_phi_2: \", temp_k_phi_2, end='')\n",
    "        print(\"\\tm_psi_2: \", temp_m_psi_2, end='')\n",
    "        print(\"\\tk_psi_2: \", temp_k_psi_2, end='')\n",
    "        print(\"\\tm_phi_3: \", temp_m_phi_3, end='')\n",
    "        print(\"\\tk_phi_3: \", temp_k_phi_3)\n",
    "\n",
    "# grab the learned variational parameters\n",
    "psi_1_mu = pyro.param(\"mu_psi_1\").item()\n",
    "psi_1_kappa = pyro.param(\"kappa_psi_1\").item()\n",
    "\n",
    "phi_2_mu = pyro.param(\"mu_phi_2\").item()\n",
    "phi_2_kappa = pyro.param(\"kappa_phi_2\").item()\n",
    "\n",
    "psi_2_mu = pyro.param(\"mu_psi_2\").item()\n",
    "psi_2_kappa = pyro.param(\"kappa_psi_2\").item()\n",
    "\n",
    "phi_3_mu = pyro.param(\"mu_phi_3\").item()\n",
    "phi_3_kappa = pyro.param(\"kappa_phi_3\").item()\n",
    "\n",
    "print(\"\\nFinal parameters\\npsi_1_mu: {}\\npsi_1_kappa: {}\".format(psi_1_mu, psi_1_kappa))\n",
    "print(\"\\nFinal parameters\\nphi_2_mu: {}\\nphi_2_kappa: {}\".format(phi_2_mu, phi_2_kappa))\n",
    "print(\"\\nFinal parameters\\npsi_2_mu: {}\\npsi_2_kappa: {}\".format(psi_2_mu, psi_2_kappa))\n",
    "print(\"\\nFinal parameters\\nphi_3_mu: {}\\nphi_3_kappa: {}\".format(phi_3_mu, phi_3_kappa))"
   ]
  },
  {
   "cell_type": "markdown",
   "metadata": {},
   "source": [
    "### ELBO loss"
   ]
  },
  {
   "cell_type": "code",
   "execution_count": 23,
   "metadata": {
    "ExecuteTime": {
     "end_time": "2019-12-06T13:48:54.036156Z",
     "start_time": "2019-12-06T13:48:53.886493Z"
    }
   },
   "outputs": [
    {
     "data": {
      "image/png": "[encoded data removed]",
      "text/plain": [
       "<Figure size 432x288 with 1 Axes>"
      ]
     },
     "metadata": {
      "needs_background": "light"
     },
     "output_type": "display_data"
    }
   ],
   "source": [
    "elbo_loss(losses_3D, 2000)"
   ]
  },
  {
   "cell_type": "markdown",
   "metadata": {},
   "source": [
    "### Hyperparameter change"
   ]
  },
  {
   "cell_type": "code",
   "execution_count": 24,
   "metadata": {
    "ExecuteTime": {
     "end_time": "2019-12-06T13:48:54.042140Z",
     "start_time": "2019-12-06T13:48:54.038151Z"
    }
   },
   "outputs": [],
   "source": [
    "def hyperparameters_3D(a, b):\n",
    "    plt.subplot(1,2,1)\n",
    "    plt.plot(a)\n",
    "    \n",
    "    plt.subplot(1,2,2)\n",
    "    plt.plot(b)"
   ]
  },
  {
   "cell_type": "code",
   "execution_count": 25,
   "metadata": {
    "ExecuteTime": {
     "end_time": "2019-12-06T13:48:54.267712Z",
     "start_time": "2019-12-06T13:48:54.044135Z"
    }
   },
   "outputs": [
    {
     "data": {
      "image/png": "[encoded data removed]",
      "text/plain": [
       "<Figure size 432x288 with 2 Axes>"
      ]
     },
     "metadata": {
      "needs_background": "light"
     },
     "output_type": "display_data"
    }
   ],
   "source": [
    "hyperparameters_3D(mu_psi_1_3D, kappa_psi_1_3D)"
   ]
  },
  {
   "cell_type": "markdown",
   "metadata": {},
   "source": [
    "### Sampling from Von Mises (3D model)"
   ]
  },
  {
   "cell_type": "code",
   "execution_count": 26,
   "metadata": {
    "ExecuteTime": {
     "end_time": "2019-12-06T13:48:54.300853Z",
     "start_time": "2019-12-06T13:48:54.268710Z"
    }
   },
   "outputs": [],
   "source": [
    "def Sampler_VM_3Dmodel(n_samples, n_AA, mus, kappas, bias=0, used_angles=[True, True, True]):\n",
    "    phi = used_angles[0]\n",
    "    psi = used_angles[1]\n",
    "    omega = used_angles[2]\n",
    "    \n",
    "    # Making samples    \n",
    "    samples = []\n",
    "    for AA in range(n_AA):\n",
    "        angles = []\n",
    "        for sample in range(n_samples):\n",
    "            dihedral_angles = []\n",
    "            if phi and AA != 0:\n",
    "                phi_angle = pyro.distributions.VonMises(mus[AA][0],\n",
    "                                                              (bias+kappas[AA][0])).sample_n(1).item()\n",
    "                dihedral_angles.append(float(phi_angle))\n",
    "            else:\n",
    "                dihedral_angles.append(float(0.))\n",
    "                \n",
    "            if psi and AA != n_AA-1:\n",
    "                psi_angle = pyro.distributions.VonMises(mus[AA][1],\n",
    "                                                              (bias+kappas[AA][1])).sample_n(1).item()\n",
    "                dihedral_angles.append(float(psi_angle))\n",
    "            else:\n",
    "                dihedral_angles.append(float(0.))\n",
    "                \n",
    "            if omega and AA != n_AA-1:\n",
    "                omega_angle = np.pi\n",
    "                dihedral_angles.append(float(omega_angle))\n",
    "            else:\n",
    "                dihedral_angles.append(float(0.))\n",
    "            \n",
    "            angles.append(np.array((dihedral_angles)))\n",
    "                \n",
    "        samples.append(angles)\n",
    "\n",
    "    samples = torch.tensor(samples)\n",
    "    return samples"
   ]
  },
  {
   "cell_type": "code",
   "execution_count": 27,
   "metadata": {
    "ExecuteTime": {
     "end_time": "2019-12-06T13:48:54.307606Z",
     "start_time": "2019-12-06T13:48:54.302647Z"
    }
   },
   "outputs": [],
   "source": [
    "mu_psi_1_model_3D = psi_1_mu\n",
    "kappa_psi_1_model_3D = psi_1_kappa\n",
    "\n",
    "mu_phi_2_model_3D = phi_2_mu\n",
    "kappa_phi_2_model_3D = phi_2_kappa\n",
    "\n",
    "mu_psi_2_model_3D = psi_2_mu\n",
    "kappa_psi_2_model_3D = psi_2_kappa\n",
    "\n",
    "mu_phi_3_model_3D = phi_3_mu\n",
    "kappa_phi_3_model_3D = phi_3_kappa"
   ]
  },
  {
   "cell_type": "code",
   "execution_count": 28,
   "metadata": {
    "ExecuteTime": {
     "end_time": "2019-12-06T13:48:58.637896Z",
     "start_time": "2019-12-06T13:48:54.308603Z"
    }
   },
   "outputs": [],
   "source": [
    "mus_model_3D = [[None, mu_psi_1_model_3D, None], [mu_phi_2_model_3D, mu_psi_2_model_3D, None], [mu_phi_3_model_3D, None, None]]\n",
    "kappas_model_3D = [[None, kappa_psi_1_model_3D, None], [kappa_phi_2_model_3D, kappa_psi_2_model_3D, None], [kappa_phi_3_model_3D, None, None]]\n",
    "\n",
    "_3DA_atoms_3Dmodel = Sampler_VM_3Dmodel(n_samples=1000, n_AA=3, mus=mus_model_3D, kappas=kappas_model_3D, bias=10, used_angles=[True, True, True])"
   ]
  },
  {
   "cell_type": "markdown",
   "metadata": {},
   "source": [
    "### Plotting overlay of Von Mises distribution (3D)"
   ]
  },
  {
   "cell_type": "code",
   "execution_count": 29,
   "metadata": {
    "ExecuteTime": {
     "end_time": "2019-12-06T13:48:59.658533Z",
     "start_time": "2019-12-06T13:48:58.638565Z"
    }
   },
   "outputs": [
    {
     "name": "stdout",
     "output_type": "stream",
     "text": [
      "psi 1\n"
     ]
    },
    {
     "data": {
      "image/png": "[encoded data removed]",
      "text/plain": [
       "<Figure size 432x288 with 1 Axes>"
      ]
     },
     "metadata": {
      "needs_background": "light"
     },
     "output_type": "display_data"
    },
    {
     "name": "stdout",
     "output_type": "stream",
     "text": [
      "phi 2\n"
     ]
    },
    {
     "data": {
      "image/png": "[encoded data removed]",
      "text/plain": [
       "<Figure size 432x288 with 1 Axes>"
      ]
     },
     "metadata": {
      "needs_background": "light"
     },
     "output_type": "display_data"
    },
    {
     "name": "stdout",
     "output_type": "stream",
     "text": [
      "psi 2\n"
     ]
    },
    {
     "data": {
      "image/png": "[encoded data removed]",
      "text/plain": [
       "<Figure size 432x288 with 1 Axes>"
      ]
     },
     "metadata": {
      "needs_background": "light"
     },
     "output_type": "display_data"
    },
    {
     "name": "stdout",
     "output_type": "stream",
     "text": [
      "phi 3\n"
     ]
    },
    {
     "data": {
      "image/png": "[encoded data removed]",
      "text/plain": [
       "<Figure size 432x288 with 1 Axes>"
      ]
     },
     "metadata": {
      "needs_background": "light"
     },
     "output_type": "display_data"
    }
   ],
   "source": [
    "print('psi 1')\n",
    "plotting_VM(data_1=_3DA_atoms, data_2=_3DA_atoms_3Dmodel, AAs=[1], angles=[1])\n",
    "print('phi 2')\n",
    "plotting_VM(data_1=_3DA_atoms, data_2=_3DA_atoms_3Dmodel, AAs=[2], angles=[0])\n",
    "print('psi 2')\n",
    "plotting_VM(data_1=_3DA_atoms, data_2=_3DA_atoms_3Dmodel, AAs=[2], angles=[1])\n",
    "print('phi 3')\n",
    "plotting_VM(data_1=_3DA_atoms, data_2=_3DA_atoms_3Dmodel, AAs=[3], angles=[0])"
   ]
  },
  {
   "cell_type": "markdown",
   "metadata": {},
   "source": [
    "### Visualisation of sampled data and two models"
   ]
  },
  {
   "cell_type": "code",
   "execution_count": 30,
   "metadata": {
    "ExecuteTime": {
     "end_time": "2019-12-06T13:48:59.670502Z",
     "start_time": "2019-12-06T13:48:59.659495Z"
    }
   },
   "outputs": [],
   "source": [
    "def plotting_VM_all(data_1, AAs, angles, data_2=torch.tensor([[[0.]]]), data_3=torch.tensor([[[0.]]])):\n",
    "    n_samples = len(data_1[0])\n",
    "    \n",
    "    if angles[0] == 0:\n",
    "        da = 'phi'\n",
    "    elif angles[0] == 1:\n",
    "        da = 'psi'\n",
    "    else:\n",
    "        da = 'omega'\n",
    "        \n",
    "    # the histogram of the data\n",
    "    plt.figure()\n",
    "    if data_2.shape[1] == 1:\n",
    "        for AA in range(len(AAs)):\n",
    "            color = plt.rcParams['axes.prop_cycle'].by_key()['color']\n",
    "            if angles[AA] == 0:\n",
    "                da = 'phi'\n",
    "            elif angles[AA] == 1:\n",
    "                da = 'psi'\n",
    "            else:\n",
    "                da = 'omega'\n",
    "            n, bins, patches = plt.hist([sample[angles[AA]] for sample in data_1[AAs[AA]-1][:]], 40, density=1, alpha=0.5)\n",
    "    else:\n",
    "        for AA in range(len(AAs)):\n",
    "            color = plt.rcParams['axes.prop_cycle'].by_key()['color']\n",
    "            if angles[AA] == 0:\n",
    "                da = 'phi'\n",
    "            elif angles[AA] == 1:\n",
    "                da = 'psi'\n",
    "            else:\n",
    "                da = 'omega'\n",
    "            n, bins, patches = plt.hist([sample[angles[AA]] for sample in data_1[AAs[AA]-1][:]], 40, label='fake data', density=1, alpha=0.5)\n",
    "            n, bins, patches = plt.hist([sample[angles[AA]] for sample in data_2[AAs[AA]-1][:]], 40, label='DA model', density=1, alpha=0.5)\n",
    "            n, bins, patches = plt.hist([sample[angles[AA]] for sample in data_3[AAs[AA]-1][:]], 40, label='3D model', density=1, alpha=0.5)\n",
    "            plt.xlabel('Angle')\n",
    "    plt.ylabel('Probability')\n",
    "    plt.title('Histogram of {}_{} angles (# of samples - {})'.format(da, AAs[0], n_samples)) \n",
    "    plt.grid(True)\n",
    "    plt.legend()\n",
    "    #plt.savefig('Output\\\\Histogram of {}_{} angles (# of samples - {})'.format(da, AAs[0], n_samples))\n",
    "    plt.show()"
   ]
  },
  {
   "cell_type": "code",
   "execution_count": 31,
   "metadata": {
    "ExecuteTime": {
     "end_time": "2019-12-06T13:49:00.822244Z",
     "start_time": "2019-12-06T13:48:59.671533Z"
    }
   },
   "outputs": [
    {
     "name": "stdout",
     "output_type": "stream",
     "text": [
      "psi 1\n"
     ]
    },
    {
     "data": {
      "image/png": "[encoded data removed]",
      "text/plain": [
       "<Figure size 432x288 with 1 Axes>"
      ]
     },
     "metadata": {
      "needs_background": "light"
     },
     "output_type": "display_data"
    },
    {
     "name": "stdout",
     "output_type": "stream",
     "text": [
      "phi 2\n"
     ]
    },
    {
     "data": {
      "image/png": "[encoded data removed]",
      "text/plain": [
       "<Figure size 432x288 with 1 Axes>"
      ]
     },
     "metadata": {
      "needs_background": "light"
     },
     "output_type": "display_data"
    },
    {
     "name": "stdout",
     "output_type": "stream",
     "text": [
      "psi 2\n"
     ]
    },
    {
     "data": {
      "image/png": "[encoded data removed]",
      "text/plain": [
       "<Figure size 432x288 with 1 Axes>"
      ]
     },
     "metadata": {
      "needs_background": "light"
     },
     "output_type": "display_data"
    },
    {
     "name": "stdout",
     "output_type": "stream",
     "text": [
      "phi 3\n"
     ]
    },
    {
     "data": {
      "image/png": "[encoded data removed]",
      "text/plain": [
       "<Figure size 432x288 with 1 Axes>"
      ]
     },
     "metadata": {
      "needs_background": "light"
     },
     "output_type": "display_data"
    }
   ],
   "source": [
    "print('psi 1')\n",
    "plotting_VM_all(data_1=_3DA_atoms, data_2=_3DA_atoms_model, data_3=_3DA_atoms_3Dmodel, AAs=[1], angles=[1])\n",
    "print('phi 2')\n",
    "plotting_VM_all(data_1=_3DA_atoms, data_2=_3DA_atoms_model, data_3=_3DA_atoms_3Dmodel, AAs=[2], angles=[0])\n",
    "print('psi 2')\n",
    "plotting_VM_all(data_1=_3DA_atoms, data_2=_3DA_atoms_model, data_3=_3DA_atoms_3Dmodel, AAs=[2], angles=[1])\n",
    "print('phi 3')\n",
    "plotting_VM_all(data_1=_3DA_atoms, data_2=_3DA_atoms_model, data_3=_3DA_atoms_3Dmodel, AAs=[3], angles=[0])"
   ]
  }
 ],
 "metadata": {
  "kernelspec": {
   "display_name": "Python 3",
   "language": "python",
   "name": "python3"
  },
  "language_info": {
   "codemirror_mode": {
    "name": "ipython",
    "version": 3
   },
   "file_extension": ".py",
   "mimetype": "text/x-python",
   "name": "python",
   "nbconvert_exporter": "python",
   "pygments_lexer": "ipython3",
   "version": "3.7.4"
  },
  "toc": {
   "base_numbering": 1,
   "nav_menu": {},
   "number_sections": true,
   "sideBar": true,
   "skip_h1_title": false,
   "title_cell": "Table of Contents",
   "title_sidebar": "Contents",
   "toc_cell": false,
   "toc_position": {
    "height": "calc(100% - 180px)",
    "left": "10px",
    "top": "150px",
    "width": "369px"
   },
   "toc_section_display": true,
   "toc_window_display": true
  },
  "varInspector": {
   "cols": {
    "lenName": 16,
    "lenType": 16,
    "lenVar": 40
   },
   "kernels_config": {
    "python": {
     "delete_cmd_postfix": "",
     "delete_cmd_prefix": "del ",
     "library": "var_list.py",
     "varRefreshCmd": "print(var_dic_list())"
    },
    "r": {
     "delete_cmd_postfix": ") ",
     "delete_cmd_prefix": "rm(",
     "library": "var_list.r",
     "varRefreshCmd": "cat(var_dic_list()) "
    }
   },
   "position": {
    "height": "646.69px",
    "left": "449.225px",
    "right": "20px",
    "top": "24.9884px",
    "width": "799.988px"
   },
   "types_to_exclude": [
    "module",
    "function",
    "builtin_function_or_method",
    "instance",
    "_Feature"
   ],
   "window_display": false
  }
 },
 "nbformat": 4,
 "nbformat_minor": 2
}
